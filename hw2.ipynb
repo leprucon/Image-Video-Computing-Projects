{
 "cells": [
  {
   "cell_type": "code",
   "execution_count": 1,
   "metadata": {},
   "outputs": [],
   "source": [
    "import cv2\n",
    "import numpy as np\n",
    "from IPython.display import display, Image, clear_output\n",
    "import ipywidgets as widgets\n",
    "import threading\n",
    "import io\n",
    "from PIL import Image as PilImage\n",
    "\n",
    "\n"
   ]
  },
  {
   "cell_type": "code",
   "execution_count": 1,
   "metadata": {},
   "outputs": [],
   "source": [
    "def show_array(a, fmt='jpeg'):\n",
    "    f = io.BytesIO()\n",
    "    PilImage.fromarray(a).save(f, fmt) \n",
    "    display(Image(data=f.getvalue()))\n",
    "\n",
    "def get_video():\n",
    "    cap = cv2.VideoCapture(0) #0 is the default webcam\n",
    "    try:\n",
    "        while True:\n",
    "            ret, frame = cap.read()\n",
    "            if not ret:\n",
    "                break\n",
    "            processed_frame = process_frame(frame)\n",
    "            frame_rgb = cv2.cvtColor(processed_frame, cv2.COLOR_BGR2RGB)\n",
    "            show_array(frame_rgb)\n",
    "            clear_output(wait=True)\n",
    "    finally:\n",
    "        cap.release()\n"
   ]
  },
  {
   "cell_type": "code",
   "execution_count": 2,
   "metadata": {},
   "outputs": [],
   "source": [
    "def process_frame(frame):\n",
    "\n",
    "    hsv = cv2.cvtColor(frame, cv2.COLOR_BGR2HSV)\n",
    "\n",
    "    #skin color detection\n",
    "    lower_skin = np.array([0, 48, 80], dtype=np.uint8)\n",
    "    upper_skin = np.array([20, 255, 255], dtype=np.uint8)\n",
    "\n",
    "    mask = cv2.inRange(hsv, lower_skin, upper_skin)\n",
    "\n",
    "    #noise filters\n",
    "    kernel = np.ones((5, 5), np.uint8)\n",
    "    mask = cv2.dilate(mask, kernel, iterations=2)\n",
    "    mask = cv2.GaussianBlur(mask, (5, 5), 100)\n",
    "\n",
    "    #recognition logic\n",
    "    contours, _ = cv2.findContours(mask, cv2.RETR_TREE, cv2.CHAIN_APPROX_SIMPLE)\n",
    "\n",
    "    if contours:\n",
    "        max_contour = max(contours, key=cv2.contourArea)\n",
    "        hull = cv2.convexHull(max_contour, returnPoints=False)\n",
    "        defects = cv2.convexityDefects(max_contour, hull)\n",
    "\n",
    "        count_defects = 0\n",
    "        if defects is not None:\n",
    "            for i in range(defects.shape[0]):\n",
    "                s, e, f, d = defects[i, 0]\n",
    "                start = np.array(max_contour[s][0]) \n",
    "                end = np.array(max_contour[e][0])    \n",
    "                far = np.array(max_contour[f][0])\n",
    "                \n",
    "                a = np.linalg.norm(end - start)\n",
    "                b = np.linalg.norm(far - start)\n",
    "                c = np.linalg.norm(end - far)\n",
    "                \n",
    "                angle = np.arccos((b ** 2 + c ** 2 - a ** 2) / (2 * b * c))  #cosine theorem\n",
    "\n",
    "                if angle <= np.pi / 2:\n",
    "                    count_defects += 1\n",
    "                    cv2.circle(frame, tuple(far), 5, [0, 0, 255], -1)\n",
    "\n",
    "        #display logic\n",
    "        cv2.drawContours(frame, [max_contour], -1, (0, 255, 0), 3)\n",
    "\n",
    "        #classification logic\n",
    "        if count_defects >= 4:\n",
    "            cv2.putText(frame, \"Palm\", (50, 50), cv2.FONT_HERSHEY_SIMPLEX, 2, (255, 0, 0), 2, cv2.LINE_AA)\n",
    "        elif count_defects == 3:\n",
    "            cv2.putText(frame, \"4 Fingers up\", (50, 50), cv2.FONT_HERSHEY_SIMPLEX, 2, (255, 0, 0), 2, cv2.LINE_AA)\n",
    "        elif count_defects == 2:\n",
    "            cv2.putText(frame, \"3 Fingers up\", (50, 50), cv2.FONT_HERSHEY_SIMPLEX, 2, (255, 0, 0), 2, cv2.LINE_AA)\n",
    "        elif count_defects == 1:\n",
    "            cv2.putText(frame, \"2 Fingers up\", (50, 50), cv2.FONT_HERSHEY_SIMPLEX, 2, (0, 0, 255), 2, cv2.LINE_AA)\n",
    "        elif count_defects <= 1:\n",
    "            cv2.putText(frame, \"Fist or 1 Finger up\", (50, 50), cv2.FONT_HERSHEY_SIMPLEX, 2, (0, 0, 255), 2, cv2.LINE_AA)\n",
    "\n",
    "    return frame\n",
    "\n"
   ]
  },
  {
   "cell_type": "code",
   "execution_count": 3,
   "metadata": {},
   "outputs": [
    {
     "ename": "NameError",
     "evalue": "name 'threading' is not defined",
     "output_type": "error",
     "traceback": [
      "\u001b[0;31m---------------------------------------------------------------------------\u001b[0m",
      "\u001b[0;31mNameError\u001b[0m                                 Traceback (most recent call last)",
      "Cell \u001b[0;32mIn[3], line 1\u001b[0m\n\u001b[0;32m----> 1\u001b[0m thread \u001b[38;5;241m=\u001b[39m threading\u001b[38;5;241m.\u001b[39mThread(target\u001b[38;5;241m=\u001b[39mget_video, args\u001b[38;5;241m=\u001b[39m())\n\u001b[1;32m      2\u001b[0m thread\u001b[38;5;241m.\u001b[39mstart()\n",
      "\u001b[0;31mNameError\u001b[0m: name 'threading' is not defined"
     ]
    }
   ],
   "source": [
    "thread = threading.Thread(target=get_video, args=())\n",
    "thread.start()\n"
   ]
  },
  {
   "cell_type": "code",
   "execution_count": 5,
   "metadata": {},
   "outputs": [
    {
     "ename": "AttributeError",
     "evalue": "'Thread' object has no attribute 'stop'",
     "output_type": "error",
     "traceback": [
      "\u001b[0;31m---------------------------------------------------------------------------\u001b[0m",
      "\u001b[0;31mAttributeError\u001b[0m                            Traceback (most recent call last)",
      "Cell \u001b[0;32mIn[5], line 2\u001b[0m\n\u001b[1;32m      1\u001b[0m \u001b[38;5;66;03m# Use this cell to stop the thread\u001b[39;00m\n\u001b[0;32m----> 2\u001b[0m thread\u001b[38;5;241m.\u001b[39mstop()\n",
      "\u001b[0;31mAttributeError\u001b[0m: 'Thread' object has no attribute 'stop'"
     ]
    }
   ],
   "source": []
  },
  {
   "cell_type": "code",
   "execution_count": null,
   "metadata": {},
   "outputs": [],
   "source": []
  }
 ],
 "metadata": {
  "kernelspec": {
   "display_name": "Python 3 (ipykernel)",
   "language": "python",
   "name": "python3"
  },
  "language_info": {
   "codemirror_mode": {
    "name": "ipython",
    "version": 3
   },
   "file_extension": ".py",
   "mimetype": "text/x-python",
   "name": "python",
   "nbconvert_exporter": "python",
   "pygments_lexer": "ipython3",
   "version": "3.11.5"
  }
 },
 "nbformat": 4,
 "nbformat_minor": 4
}
